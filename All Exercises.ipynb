{
 "cells": [
  {
   "cell_type": "code",
   "id": "initial_id",
   "metadata": {
    "collapsed": true,
    "ExecuteTime": {
     "end_time": "2024-11-12T10:03:54.767103Z",
     "start_time": "2024-11-12T10:03:54.762771Z"
    }
   },
   "source": [
    "#imports\n",
    "import numpy as np\n",
    "import pandas as pd\n",
    "import scipy.optimize as spo\n",
    "from math import sqrt\n",
    "import matplotlib.pyplot as plt\n",
    "from scipy.stats import norm\n",
    "from numpy.linalg import inv\n",
    "from math import log, sqrt\n",
    "import warnings\n"
   ],
   "outputs": [],
   "execution_count": 34
  },
  {
   "metadata": {
    "ExecuteTime": {
     "end_time": "2024-11-12T10:03:55.229904Z",
     "start_time": "2024-11-12T10:03:55.228197Z"
    }
   },
   "cell_type": "code",
   "source": [
    "#initialize variables\n",
    "probability_ranges = []\n",
    "simulations = None\n",
    "description = \"\"\n",
    "\n",
    "warnings.filterwarnings(\"ignore\", category=RuntimeWarning)\n",
    "\n"
   ],
   "id": "ddcaf00615213d87",
   "outputs": [],
   "execution_count": 35
  },
  {
   "metadata": {},
   "cell_type": "markdown",
   "source": [
    "<div style=\"background-color: #333333; color: #FFDD57; padding: 15px; border-radius: 10px; border: 2px solid #FFDD57;\">\n",
    "    <h2 style=\"margin: 0; font-size: 24px;\">Exercise 3</h2>\n",
    "    <p>Optimization of sharpe ratio and volatility (GMVP) and provides results such as return, volatility and weights</p>\n",
    "</div>\n"
   ],
   "id": "9c26b38701e6d9e1"
  },
  {
   "metadata": {
    "ExecuteTime": {
     "end_time": "2024-11-12T10:03:56.360381Z",
     "start_time": "2024-11-12T10:03:56.351377Z"
    }
   },
   "cell_type": "code",
   "source": [
    "# Load data from Excel file\n",
    "file_path = 'prices_import.xlsx'  # Adjust this path if necessary\n",
    "df = pd.read_excel(file_path)\n",
    "prices = df.values  # Extract the price data as a numpy array\n",
    "print(df)"
   ],
   "id": "c41c4f521462f996",
   "outputs": [
    {
     "name": "stdout",
     "output_type": "stream",
     "text": [
      "       GE   MSFT    JNJ      K     BA    IBM\n",
      "0    2.36   2.68   6.78  20.37   2.34  11.79\n",
      "1    4.15   2.64   7.20  18.47   4.21  14.62\n",
      "2    4.98   3.68  10.91  19.90   4.20  15.53\n",
      "3    8.80   5.73  19.43  29.03   8.09  20.41\n",
      "4   13.51  12.64  24.44  27.59  13.93  30.78\n",
      "5   21.64  18.49  29.15  38.01  20.19  31.60\n",
      "6   30.57  43.37  38.04  34.14  23.47  30.94\n",
      "7   40.51  48.51  39.36  20.93  36.27  39.24\n",
      "8   42.42  30.26  43.80  23.52  48.13  48.78\n",
      "9   34.82  31.58  55.19  28.70  41.39  51.05\n",
      "10  22.25  23.52  52.15  32.00  32.81  59.63\n",
      "11  31.86  28.16  51.49  37.36  48.86  81.95\n"
     ]
    },
    {
     "name": "stderr",
     "output_type": "stream",
     "text": [
      "/Users/alexandrekobrin/Desktop/test AFE/.venv/lib/python3.12/site-packages/openpyxl/worksheet/_reader.py:329: UserWarning: Unknown extension is not supported and will be removed\n",
      "  warn(msg)\n"
     ]
    }
   ],
   "execution_count": 36
  },
  {
   "metadata": {},
   "cell_type": "markdown",
   "source": [
    "<div style=\"background-color: #444444; color: #FFC966; padding: 8px; border-radius: 6px; border: 1.5px solid #FFC966;\">\n",
    "    <h4 style=\"margin: 0; font-size: 18px;\">Assumptions </h4>\n",
    "    <p style=\"font-size: 14px; margin: 5px 0 0;\">We set the assumptions of the exercise.</p>\n",
    "</div>"
   ],
   "id": "57545b134cce0337"
  },
  {
   "metadata": {
    "ExecuteTime": {
     "end_time": "2024-11-12T10:03:56.659308Z",
     "start_time": "2024-11-12T10:03:56.656356Z"
    }
   },
   "cell_type": "code",
   "source": [
    "# --- Financial Assumptions and Portfolio Constraints ---\n",
    "\n",
    "# 1. Risk-free rate of return (constant for Sharpe Ratio calculations)\n",
    "risk_free_rate = 0  # Constant 1% as specified in the question\n",
    "\n",
    "# 2. Short positions allowed?\n",
    "short_positions_allowed = False  # Set to True if shorting is permitted\n",
    "\n",
    "# 3. Maximum short position (if shorting is allowed)\n",
    "max_short_position = 0 if short_positions_allowed else 0  # 5% if shorting allowed\n",
    "\n",
    "# 4. Maximum position constraint\n",
    "use_max_position_constraint = True\n",
    "max_position_per_asset = 0.4 if use_max_position_constraint else 1  # Set based on question requirements\n",
    "\n",
    "# 5. Minimum position constraint for diversification\n",
    "use_min_position_constraint = True\n",
    "min_position_per_asset = 0 if use_min_position_constraint else 0  # Set based on question requirements\n",
    "\n",
    "# --- Data Calculations (based on input data) ---\n",
    "\n",
    "# Calculate log returns from price data (assuming `prices` is a numpy array of historical prices)\n",
    "log_returns = np.log(prices[1:] / prices[:-1])  # Calculate log returns for each period (row-wise)\n",
    "expected_returns = np.mean(log_returns, axis=0)  # Average return for each asset across all periods\n",
    "\n",
    "# Covariance matrix of returns\n",
    "max_observations = log_returns.shape[0]  # Number of return observations\n",
    "cov_matrix = (log_returns - expected_returns).T @ (log_returns - expected_returns) / max_observations\n",
    "\n",
    "# Number of assets and initial weights\n",
    "num_assets = len(expected_returns)\n",
    "initial_weights = np.ones(num_assets) / num_assets  # Start with equal weights as an initial guess\n",
    "\n",
    "# --- Constraints Setup ---\n",
    "\n",
    "# Define a base constraint that requires the sum of weights to equal 1 (100% allocation)\n",
    "constraints = [{'type': 'eq', 'fun': lambda weights: np.sum(weights) - 1}]\n",
    "\n",
    "# Only apply a maximum position constraint if it's specified and no other constraints are required\n",
    "# This conditional setup uses only a max constraint if specified, aligning with the solution's approach.\n",
    "if use_max_position_constraint and not use_min_position_constraint:\n",
    "    constraints.append({'type': 'ineq', 'fun': lambda weights: max_position_per_asset - weights})\n",
    "else:\n",
    "    # Apply minimum position constraint if `use_min_position_constraint` is True\n",
    "    if use_min_position_constraint:\n",
    "        constraints.append({'type': 'ineq', 'fun': lambda weights: weights - (max_short_position if short_positions_allowed else min_position_per_asset)})\n",
    "\n",
    "    # Apply maximum position constraint if `use_max_position_constraint` is True\n",
    "    if use_max_position_constraint:\n",
    "        constraints.append({'type': 'ineq', 'fun': lambda weights: max_position_per_asset - weights})"
   ],
   "id": "601c10674b952da3",
   "outputs": [],
   "execution_count": 37
  },
  {
   "metadata": {},
   "cell_type": "markdown",
   "source": [
    "<div style=\"background-color: #444444; color: #FFC966; padding: 8px; border-radius: 6px; border: 1.5px solid #FFC966;\">\n",
    "    <h4 style=\"margin: 0; font-size: 18px;\">Optimization function 1</h4>\n",
    "    <p style=\"font-size: 14px; margin: 5px 0 0;\">Optimal sharpe ratio</p>\n",
    "</div>"
   ],
   "id": "69e4fae9fb9e049e"
  },
  {
   "metadata": {
    "ExecuteTime": {
     "end_time": "2024-11-12T10:03:57.205454Z",
     "start_time": "2024-11-12T10:03:57.198973Z"
    }
   },
   "cell_type": "code",
   "source": [
    "# Objective function: Sharpe Ratio (maximizing sharp ratio)\n",
    "def negative_sharpe_ratio(weights, expected_returns, cov_matrix, risk_free_rate):\n",
    "    \"\"\"\n",
    "    Calculate the negative Sharpe Ratio for a given portfolio weight distribution.\n",
    "    \n",
    "    Parameters:\n",
    "    - weights: Portfolio weights for each asset.\n",
    "    - expected_returns: Expected returns of each asset.\n",
    "    - cov_matrix: Covariance matrix of returns.\n",
    "    - risk_free_rate: Risk-free rate of return.\n",
    "    \n",
    "    Returns:\n",
    "    - Negative Sharpe Ratio.\n",
    "    \"\"\"\n",
    "    portfolio_return = np.dot(weights, expected_returns)  # Portfolio expected return\n",
    "    portfolio_variance = np.dot(weights.T, np.dot(cov_matrix, weights))  # Portfolio variance\n",
    "    portfolio_volatility = sqrt(portfolio_variance)  # Portfolio volatility (standard deviation)\n",
    "    return -(portfolio_return - risk_free_rate) / portfolio_volatility  # Negative Sharpe Ratio\n",
    "\n",
    "# Perform the optimization to find optimal weights for maximum Sharpe Ratio\n",
    "result = spo.minimize(\n",
    "    negative_sharpe_ratio,           # Objective function\n",
    "    initial_weights,                 # Initial guess for weights\n",
    "    args=(expected_returns, cov_matrix, risk_free_rate),  # Extra arguments for the objective function\n",
    "    method='SLSQP',                  # Optimization method\n",
    "    constraints=constraints          # Constraints for weights\n",
    ")\n",
    "\n",
    "# Extract the optimized weights and Sharpe Ratio\n",
    "optimized_weights = np.round(result.x, 5)  # Optimal weights for maximum Sharpe Ratio\n",
    "optimal_sharpe_ratio = -negative_sharpe_ratio(result.x, expected_returns, cov_matrix, risk_free_rate)  # Optimal Sharpe Ratio\n",
    "\n",
    "# Output results\n",
    "print(\"Optimal Weights:\", optimized_weights)\n",
    "print(\"Optimal Sharpe Ratio:\", round(optimal_sharpe_ratio, 4))\n"
   ],
   "id": "f16d0a643bdf3830",
   "outputs": [
    {
     "name": "stdout",
     "output_type": "stream",
     "text": [
      "Optimal Weights: [0.      0.00125 0.4     0.073   0.12575 0.4    ]\n",
      "Optimal Sharpe Ratio: 1.6622\n"
     ]
    }
   ],
   "execution_count": 38
  },
  {
   "metadata": {
    "ExecuteTime": {
     "end_time": "2024-11-12T10:03:57.563699Z",
     "start_time": "2024-11-12T10:03:57.561137Z"
    }
   },
   "cell_type": "code",
   "source": [
    "# Calculate the expected return of the efficient portfolio using the optimized weights\n",
    "efficient_portfolio_return = np.dot(optimized_weights, expected_returns)\n",
    "\n",
    "# Output the result\n",
    "print(\"Expected Return of the Efficient Portfolio:\", round(efficient_portfolio_return, 4))"
   ],
   "id": "43c0e0e904e88725",
   "outputs": [
    {
     "name": "stdout",
     "output_type": "stream",
     "text": [
      "Expected Return of the Efficient Portfolio: 0.1833\n"
     ]
    }
   ],
   "execution_count": 39
  },
  {
   "metadata": {
    "ExecuteTime": {
     "end_time": "2024-11-12T10:03:57.734318Z",
     "start_time": "2024-11-12T10:03:57.732204Z"
    }
   },
   "cell_type": "code",
   "source": [
    "# Display the weights of the efficient portfolio (from the optimization result)\n",
    "print(\"Weights of the Efficient Portfolio:\", np.round(optimized_weights, 4))"
   ],
   "id": "f29c681454e7132",
   "outputs": [
    {
     "name": "stdout",
     "output_type": "stream",
     "text": [
      "Weights of the Efficient Portfolio: [0.     0.0012 0.4    0.073  0.1258 0.4   ]\n"
     ]
    }
   ],
   "execution_count": 40
  },
  {
   "metadata": {
    "ExecuteTime": {
     "end_time": "2024-11-12T10:03:57.923308Z",
     "start_time": "2024-11-12T10:03:57.921157Z"
    }
   },
   "cell_type": "code",
   "source": [
    "# Calculate the volatility of the previously optimized efficient portfolio (from Sharpe Ratio maximization)\n",
    "efficient_portfolio_volatility = sqrt(np.dot(optimized_weights.T, np.dot(cov_matrix, optimized_weights)))\n",
    "\n",
    "# Output the result\n",
    "print(\"Volatility of the Efficient Portfolio:\", round(efficient_portfolio_volatility, 4))\n"
   ],
   "id": "e46cd5af5ea0b173",
   "outputs": [
    {
     "name": "stdout",
     "output_type": "stream",
     "text": [
      "Volatility of the Efficient Portfolio: 0.1102\n"
     ]
    }
   ],
   "execution_count": 41
  },
  {
   "metadata": {},
   "cell_type": "markdown",
   "source": [
    "<div style=\"background-color: #444444; color: #FFC966; padding: 8px; border-radius: 6px; border: 1.5px solid #FFC966;\">\n",
    "    <h4 style=\"margin: 0; font-size: 18px;\">Optimization function 2</h4>\n",
    "    <p style=\"font-size: 14px; margin: 5px 0 0;\">GMVP</p>\n",
    "</div>"
   ],
   "id": "49a096c37ce2468e"
  },
  {
   "metadata": {
    "ExecuteTime": {
     "end_time": "2024-11-12T10:03:58.772907Z",
     "start_time": "2024-11-12T10:03:58.767015Z"
    }
   },
   "cell_type": "code",
   "source": [
    "# Objective function to minimize portfolio volatility for GMVP\n",
    "def portfolio_volatility(weights, cov_matrix):\n",
    "    \"\"\"\n",
    "    Calculate the portfolio volatility (standard deviation) for a given set of weights.\n",
    "\n",
    "    Parameters:\n",
    "    - weights: Portfolio weights for each asset.\n",
    "    - cov_matrix: Covariance matrix of returns.\n",
    "\n",
    "    Returns:\n",
    "    - Portfolio volatility.\n",
    "    \"\"\"\n",
    "    portfolio_variance = np.dot(weights.T, np.dot(cov_matrix, weights))  # Portfolio variance\n",
    "    return sqrt(portfolio_variance)  # Portfolio volatility (standard deviation)\n",
    "\n",
    "# Perform the optimization to find the GMVP (Global Minimum Variance Portfolio)\n",
    "result_gmvp = spo.minimize(\n",
    "    portfolio_volatility,            # Objective function to minimize volatility\n",
    "    initial_weights,                 # Initial guess for weights\n",
    "    args=(cov_matrix,),              # Only covariance matrix is needed for volatility calculation\n",
    "    method='SLSQP',                  # Optimization method\n",
    "    constraints=constraints          # Reuse the constraints for shorting and max weight of 30%\n",
    ")\n",
    "\n",
    "# Extract the optimized weights and GMVP volatility\n",
    "optimized_weights_gmvp = np.round(result_gmvp.x, 5)  # Weights for GMVP\n",
    "gmvp_volatility = portfolio_volatility(result_gmvp.x, cov_matrix)  # Minimum volatility (GMVP)\n",
    "\n",
    "# Output results\n",
    "print(\"Optimal Weights for GMVP:\", optimized_weights_gmvp)\n",
    "print(\"Volatility of the GMVP Portfolio:\", round(gmvp_volatility, 4))\n"
   ],
   "id": "765204ac2a8e743d",
   "outputs": [
    {
     "name": "stdout",
     "output_type": "stream",
     "text": [
      "Optimal Weights for GMVP: [-0.       0.00829  0.35774  0.19774  0.03623  0.4    ]\n",
      "Volatility of the GMVP Portfolio: 0.1032\n"
     ]
    }
   ],
   "execution_count": 42
  },
  {
   "metadata": {
    "ExecuteTime": {
     "end_time": "2024-11-12T10:03:59.027305Z",
     "start_time": "2024-11-12T10:03:58.960144Z"
    }
   },
   "cell_type": "code",
   "source": [
    "#Emile's template\n",
    "\n",
    "# Load data\n",
    "smat = df.values\n",
    "\n",
    "# Calculate returns\n",
    "ret1 = np.log(smat[1:, :] / smat[:-1, :])\n",
    "\n",
    "# Expected returns, variance, and standard deviation\n",
    "er = np.mean(ret1, axis=0)\n",
    "var = np.var(ret1, axis=0)\n",
    "std = np.sqrt(var)\n",
    "\n",
    "# Covariance matrix\n",
    "count = np.shape(ret1)[0]\n",
    "s = (ret1 - er).T @ (ret1 - er) / count\n",
    "\n",
    "# Portfolio optimization for c1\n",
    "c1 = 0.01  # Change this value as needed\n",
    "w1 = (inv(s) @ (er - c1)) / np.sum(inv(s) @ (er - c1))\n",
    "er1 = w1.T @ er\n",
    "var1 = w1.T @ s @ w1\n",
    "vol1 = np.sqrt(var1)\n",
    "\n",
    "# Portfolio optimization for c2\n",
    "c2 = 0.05  # Change this value as needed\n",
    "w2 = (inv(s) @ (er - c2)) / np.sum(inv(s) @ (er - c2))\n",
    "er2 = w2.T @ er\n",
    "var2 = w2.T @ s @ w2\n",
    "vol2 = np.sqrt(var2)\n",
    "\n",
    "# Efficient Frontier and plot\n",
    "𝜆 = np.arange(-1.5, 2.6, 0.1)\n",
    "volp = np.sqrt(𝜆**2 * var1 + (1 - 𝜆)**2 * var2 + 2 * 𝜆 * (1 - 𝜆) * (w1.T @ s @ w2))\n",
    "erp = 𝜆 * er1 + (1 - 𝜆) * er2\n",
    "\n",
    "# Plot Efficient Portfolio\n",
    "plt.title(\"Merton Efficient Portfolio\")\n",
    "plt.xlabel('Volatility')\n",
    "plt.ylabel('Returns')\n",
    "plt.scatter(vol1, er1, color='purple')\n",
    "plt.scatter(vol2, er2, color='orange')\n",
    "plt.plot(volp, erp)\n",
    "\n",
    "\n",
    "# Minimization for Sharpe ratio\n",
    "def f_negative_sharpe(w, er, s, r):\n",
    "    er_p = er.T @ w\n",
    "    var_p = (w.T @ s) @ w\n",
    "    vol_p = np.sqrt(var_p)\n",
    "    return -(er_p - r) / vol_p\n",
    "\n",
    "# Initial weights\n",
    "w0 = [1, 0, 0.5, 1, 1, 1]\n",
    "\n",
    "# Example optimization with initial guess and constraints\n",
    "cons = ({'type': 'eq', 'fun': lambda w: np.sum(w) - 1},\n",
    "        {'type': 'ineq', 'fun': lambda w: w})\n",
    "optimize_result = spo.minimize(f_negative_sharpe, w0, args=(er, s, c1), constraints=cons)\n",
    "optimized_weights = optimize_result.x"
   ],
   "id": "2834cf05cca09bb6",
   "outputs": [
    {
     "data": {
      "text/plain": [
       "<Figure size 640x480 with 1 Axes>"
      ],
      "image/png": "[encoded data removed]"
     },
     "metadata": {},
     "output_type": "display_data"
    }
   ],
   "execution_count": 43
  },
  {
   "metadata": {},
   "cell_type": "markdown",
   "source": [
    "<div style=\"background-color: #333333; color: #FFDD57; padding: 15px; border-radius: 10px; border: 2px solid #FFDD57;\">\n",
    "    <h2 style=\"margin: 0; font-size: 24px;\">Exercise 4</h2>\n",
    "    <p>Option pricing and bond default.</p>\n",
    "</div>\n"
   ],
   "id": "b20cacdd6aaea41b"
  },
  {
   "metadata": {},
   "cell_type": "markdown",
   "source": [
    "<div style=\"background-color: #444444; color: #FFC966; padding: 8px; border-radius: 6px; border: 1.5px solid #FFC966;\">\n",
    "    <h4 style=\"margin: 0; font-size: 18px;\">Assumptions </h4>\n",
    "    <p style=\"font-size: 14px; margin: 5px 0 0;\">We set the assumptions of the exercise.</p>\n",
    "</div>"
   ],
   "id": "cf9ccecade353e09"
  },
  {
   "metadata": {
    "ExecuteTime": {
     "end_time": "2024-11-12T10:04:00.410963Z",
     "start_time": "2024-11-12T10:04:00.408757Z"
    }
   },
   "cell_type": "code",
   "source": [
    "# --- Assumptions and Parameters ---\n",
    "\n",
    "# General simulation settings\n",
    "iterations = 100,000  # Number of Monte Carlo simulations\n",
    "\n",
    "# Select Distribution Type: 'uniform', 'normal', 'exponential'\n",
    "distribution_type = 'exponential'  # Change based on question requirements\n",
    "\n",
    "# Parameters for each distribution type\n",
    "# Uniform Distribution (for questions with uniform recovery values)\n",
    "uniform_min = 0.0             # Minimum value for Uniform distribution\n",
    "uniform_max = 0.8             # Maximum value for Uniform distribution\n",
    "\n",
    "# Normal Distribution (for questions with stock returns following normal distribution)\n",
    "normal_mean = 0.06            # Mean (expected return)\n",
    "normal_sigma = 0.25           # Standard deviation (volatility)\n",
    "\n",
    "# Exponential Distribution (for questions with exponential time to default)\n",
    "exponential_lambda = 1/12   # Lambda (rate parameter)\n",
    "\n",
    "# Context for probability queries: \"percent\" for percentage-based, \"years\" for time-based\n",
    "query_context = \"years\"  # Options: \"percent\" for recovery rates, \"years\" for time to default\n",
    "\n",
    "# Define Probability Queries based on the context\n",
    "# Format: (lower_bound, upper_bound, condition)\n",
    "# Adjust these ranges based on the specific question requirements\n",
    "\n",
    "if query_context == \"percent\":\n",
    "    probability_ranges = [\n",
    "        (0.2, 0.3, 'within'),  # Probability that R is between 20% and 30%\n",
    "        (None, 0.4, 'lower'),  # Probability that R is lower than 40%\n",
    "        (0.1, 0.7, 'or')       # Probability that R is lower than 10% or higher than 70%\n",
    "    ]\n",
    "elif query_context == \"years\":\n",
    "    probability_ranges = [\n",
    "        (5, 8, 'within'),     # Probability that time to default is between 3 and 30 years\n",
    "        (None, 3, 'lower'),    # Probability that time to default is lower than 3 years\n",
    "        (10, None, 'higher')   # Probability that time to default is higher than 10 years\n",
    "    ]\n"
   ],
   "id": "d2b394a55298355c",
   "outputs": [],
   "execution_count": 44
  },
  {
   "metadata": {},
   "cell_type": "markdown",
   "source": [
    "<div style=\"background-color: #444444; color: #FFC966; padding: 8px; border-radius: 6px; border: 1.5px solid #FFC966;\">\n",
    "    <h4 style=\"margin: 0; font-size: 18px;\">Monte Carlo Simulation</h4>\n",
    "    <p style=\"font-size: 14px; margin: 5px 0 0;\">Simulate the given distribution and calculate probabilities.</p>"
   ],
   "id": "89550b1335fe7bb2"
  },
  {
   "metadata": {
    "ExecuteTime": {
     "end_time": "2024-11-12T10:04:01.236008Z",
     "start_time": "2024-11-12T10:04:01.234120Z"
    }
   },
   "cell_type": "code",
   "source": [
    "\n",
    "def simulate_uniform(iterations, min_val, max_val):\n",
    "    \"\"\"Simulate values from a Uniform distribution.\"\"\"\n",
    "    return np.random.uniform(min_val, max_val, iterations)\n",
    "\n",
    "def simulate_normal(iterations, mean, sigma):\n",
    "    \"\"\"Simulate values from a Normal distribution.\"\"\"\n",
    "    return np.random.normal(mean, sigma, iterations)\n",
    "\n",
    "def simulate_exponential(iterations, lam):\n",
    "    \"\"\"Simulate values from an Exponential distribution.\"\"\"\n",
    "    return np.random.exponential(1 / lam, iterations)\n"
   ],
   "id": "dfa34367295b07b6",
   "outputs": [],
   "execution_count": 45
  },
  {
   "metadata": {},
   "cell_type": "markdown",
   "source": [
    "<div style=\"background-color: #444444; color: #FFC966; padding: 8px; border-radius: 6px; border: 1.5px solid #FFC966;\">\n",
    "    <h4 style=\"margin: 0; font-size: 18px;\">Computation Functions</h4>\n",
    "    <p style=\"font-size: 14px; margin: 5px 0 0;\">These functions handle probability calculations and option pricing, adapting based on the input parameters.</p>"
   ],
   "id": "cd5462c9af36ea85"
  },
  {
   "metadata": {
    "ExecuteTime": {
     "end_time": "2024-11-12T10:04:01.850081Z",
     "start_time": "2024-11-12T10:04:01.847147Z"
    }
   },
   "cell_type": "code",
   "source": [
    "def calculate_probability(simulations, lower=None, upper=None, condition='within'):\n",
    "    \"\"\"\n",
    "    Calculate the probability based on the specified condition.\n",
    "    \n",
    "    Parameters:\n",
    "    - simulations: Array of simulated values.\n",
    "    - lower: Lower bound for the probability calculation.\n",
    "    - upper: Upper bound for the probability calculation.\n",
    "    - condition: The condition type ('within', 'lower', 'higher', 'or').\n",
    "    \n",
    "    Returns:\n",
    "    - Probability that values meet the specified condition.\n",
    "    \"\"\"\n",
    "    if condition == 'within' and lower is not None and upper is not None:\n",
    "        # Probability within [lower, upper] range\n",
    "        return np.mean((simulations >= lower) & (simulations <= upper))\n",
    "    elif condition == 'lower' and upper is not None:\n",
    "        # Probability below upper bound\n",
    "        return np.mean(simulations <= upper)\n",
    "    elif condition == 'higher' and lower is not None:\n",
    "        # Probability above lower bound\n",
    "        return np.mean(simulations >= lower)\n",
    "    elif condition == 'or' and lower is not None and upper is not None:\n",
    "        # Probability that values are below lower bound or above upper bound\n",
    "        return np.mean((simulations < lower) | (simulations > upper))\n",
    "    return 0.0\n"
   ],
   "id": "47c74d9d422d3d71",
   "outputs": [],
   "execution_count": 46
  },
  {
   "metadata": {},
   "cell_type": "markdown",
   "source": [
    "<div style=\"background-color: #444444; color: #FFC966; padding: 8px; border-radius: 6px; border: 1.5px solid #FFC966;\">\n",
    "    <h4 style=\"margin: 0; font-size: 18px;\">Execution and Results Section</h4>\n",
    "    <p style=\"font-size: 14px; margin: 5px 0 0;\">This section uses the chosen assumptions to determine which distribution to simulate and computes the required probabilities and option prices.</p>"
   ],
   "id": "268eedb434315941"
  },
  {
   "metadata": {},
   "cell_type": "markdown",
   "source": [
    "##### Execution and Results Guide\n",
    "\n",
    "This section runs the simulation based on the **distribution type** and computes probabilities or option prices based on your assumptions.\n",
    "\n",
    "1. **Run the Appropriate Simulation**\n",
    "   - The code automatically selects the correct simulation based on `distribution_type`:\n",
    "     - **'uniform'**: Uniform distribution (e.g., recovery values).\n",
    "     - **'normal'**: Normal distribution (e.g., stock returns).\n",
    "     - **'exponential'**: Exponential distribution (e.g., time to default).\n",
    "     - **'gbm'**: Geometric Brownian Motion (GBM) for stock price simulations.\n",
    "\n",
    "2. **Calculate Probabilities**\n",
    "   - Uses `probability_ranges` to compute probabilities that values fall within specified intervals.\n",
    "   - Example questions it can answer:\n",
    "     - \"What is the probability that the recovery rate is between 20% and 30%?\"\n",
    "     - \"What is the probability that time to default is less than 5 years?\"\n",
    "\n",
    "3. **Additional Computations for GBM**\n",
    "   - If `distribution_type = 'gbm'`, calculates:\n",
    "     - Average stock price at maturity.\n",
    "     - Probability that stock price is below a threshold.\n",
    "     - European call/put option prices.\n",
    "   - Example questions it can answer:\n",
    "     - \"What’s the average stock price at maturity?\"\n",
    "     - \"What is the price of a European call option with a strike of $100?\"\n",
    "\n",
    "**Usage**: Adjust only the **Assumptions** section to match each question’s requirements, then run this cell to get all necessary results.\n"
   ],
   "id": "d22459ef06288b4e"
  },
  {
   "metadata": {
    "ExecuteTime": {
     "end_time": "2024-11-12T10:04:02.895327Z",
     "start_time": "2024-11-12T10:04:02.891245Z"
    }
   },
   "cell_type": "code",
   "source": [
    "# --- Execution and Results ---\n",
    "\n",
    "# Run the appropriate simulation based on distribution type\n",
    "if distribution_type == 'uniform':\n",
    "    simulations = simulate_uniform(iterations, uniform_min, uniform_max)\n",
    "elif distribution_type == 'normal':\n",
    "    simulations = simulate_normal(iterations, normal_mean, normal_sigma)\n",
    "elif distribution_type == 'exponential':\n",
    "    simulations = simulate_exponential(iterations, exponential_lambda)\n",
    "\n",
    "# Calculate probabilities for specified ranges with descriptive output\n",
    "print(\"Probability Results:\")\n",
    "for lower, upper, condition in probability_ranges:\n",
    "    probability = calculate_probability(simulations, lower, upper, condition)\n",
    "\n",
    "    # Construct descriptive message based on the context and condition type\n",
    "    if query_context == \"years\":\n",
    "        if condition == 'within':\n",
    "            description = f\"Probability that time to default is between {lower} and {upper} years\"\n",
    "        elif condition == 'lower':\n",
    "            description = f\"Probability that time to default is lower than {upper} years\"\n",
    "        elif condition == 'higher':\n",
    "            description = f\"Probability that time to default is higher than {lower} years\"\n",
    "    elif query_context == \"percent\":\n",
    "        if condition == 'within':\n",
    "            description = f\"Probability that R is between {lower*100:.0f}% and {upper*100:.0f}%\"\n",
    "        elif condition == 'lower':\n",
    "            description = f\"Probability that R is lower than {upper*100:.0f}%\"\n",
    "        elif condition == 'higher':\n",
    "            description = f\"Probability that R is higher than {lower*100:.0f}%\"\n",
    "        elif condition == 'or':\n",
    "            description = f\"Probability that R is lower than {lower*100:.0f}% or higher than {upper*100:.0f}%\"\n",
    "\n",
    "    print(f\"{description}: {round(probability, 4)}\")\n"
   ],
   "id": "4ea842655ad6c028",
   "outputs": [
    {
     "name": "stdout",
     "output_type": "stream",
     "text": [
      "Probability Results:\n",
      "Probability that time to default is between 5 and 8 years: nan\n",
      "Probability that time to default is lower than 3 years: nan\n",
      "Probability that time to default is higher than 10 years: nan\n"
     ]
    }
   ],
   "execution_count": 47
  },
  {
   "metadata": {},
   "cell_type": "markdown",
   "source": [
    "<div style=\"background-color: #444444; color: #FFC966; padding: 8px; border-radius: 6px; border: 1.5px solid #FFC966;\">\n",
    "    <h4 style=\"margin: 0; font-size: 18px;\">CDF probability part</h4>\n",
    "    <p style=\"font-size: 14px; margin: 5px 0 0;\">Is a function that describes the probability that a random variable takes on a value less than or equal to a given point. Unlike Monte Carlo simulations, which generate random samples and estimate probabilities from them, the CDF allows us to calculate probabilities directly using the distribution's properties.</p>"
   ],
   "id": "34e79c86762bc984"
  },
  {
   "metadata": {
    "ExecuteTime": {
     "end_time": "2024-11-12T10:04:03.450497Z",
     "start_time": "2024-11-12T10:04:03.444712Z"
    }
   },
   "cell_type": "code",
   "source": [
    "from scipy.stats import uniform, norm, expon\n",
    "\n",
    "# --- CDF Calculations for Probability Queries ---\n",
    "\n",
    "print(\"CDF-based Probability Results:\")\n",
    "\n",
    "for lower, upper, condition in probability_ranges:\n",
    "    probability = 0.0  # Default probability\n",
    "\n",
    "    if distribution_type == 'uniform':\n",
    "        # Uniform CDF-based calculations\n",
    "        a, b = uniform_min, uniform_max\n",
    "        if condition == 'within' and lower is not None and upper is not None:\n",
    "            probability = uniform.cdf(upper, loc=a, scale=b - a) - uniform.cdf(lower, loc=a, scale=b - a)\n",
    "        elif condition == 'lower' and upper is not None:\n",
    "            probability = uniform.cdf(upper, loc=a, scale=b - a)\n",
    "        elif condition == 'higher' and lower is not None:\n",
    "            probability = 1 - uniform.cdf(lower, loc=a, scale=b - a)\n",
    "        elif condition == 'or' and lower is not None and upper is not None:\n",
    "            probability = uniform.cdf(lower, loc=a, scale=b - a) + (1 - uniform.cdf(upper, loc=a, scale=b - a))\n",
    "\n",
    "    elif distribution_type == 'normal':\n",
    "        # Normal CDF-based calculations\n",
    "        mean, sigma = normal_mean, normal_sigma\n",
    "        if condition == 'within' and lower is not None and upper is not None:\n",
    "            probability = norm.cdf(upper, loc=mean, scale=sigma) - norm.cdf(lower, loc=mean, scale=sigma)\n",
    "        elif condition == 'lower' and upper is not None:\n",
    "            probability = norm.cdf(upper, loc=mean, scale=sigma)\n",
    "        elif condition == 'higher' and lower is not None:\n",
    "            probability = 1 - norm.cdf(lower, loc=mean, scale=sigma)\n",
    "        elif condition == 'or' and lower is not None and upper is not None:\n",
    "            probability = norm.cdf(lower, loc=mean, scale=sigma) + (1 - norm.cdf(upper, loc=mean, scale=sigma))\n",
    "\n",
    "    elif distribution_type == 'exponential':\n",
    "        # Exponential CDF-based calculations\n",
    "        lambda_param = exponential_lambda\n",
    "        if condition == 'within' and lower is not None and upper is not None:\n",
    "            probability = expon.cdf(upper, scale=1/lambda_param) - expon.cdf(lower, scale=1/lambda_param)\n",
    "        elif condition == 'lower' and upper is not None:\n",
    "            probability = expon.cdf(upper, scale=1/lambda_param)\n",
    "        elif condition == 'higher' and lower is not None:\n",
    "            probability = 1 - expon.cdf(lower, scale=1/lambda_param)\n",
    "        elif condition == 'or' and lower is not None and upper is not None:\n",
    "            probability = expon.cdf(lower, scale=1/lambda_param) + (1 - expon.cdf(upper, scale=1/lambda_param))\n",
    "\n",
    "    # Construct descriptive message (as in Monte Carlo)\n",
    "    if condition == 'within':\n",
    "        description = f\"Probability that R is between {lower*100:.0f}% and {upper*100:.0f}%\"\n",
    "    elif condition == 'lower':\n",
    "        description = f\"Probability that R is lower than {upper*100:.0f}%\"\n",
    "    elif condition == 'higher':\n",
    "        description = f\"Probability that R is higher than {lower*100:.0f}%\"\n",
    "    elif condition == 'or':\n",
    "        description = f\"Probability that R is lower than {lower*100:.0f}% or higher than {upper*100:.0f}%\"\n",
    "\n",
    "    print(f\"{description}: {round(probability, 4)}\")\n"
   ],
   "id": "5702983b1fced47b",
   "outputs": [
    {
     "name": "stdout",
     "output_type": "stream",
     "text": [
      "CDF-based Probability Results:\n",
      "Probability that R is between 500% and 800%: 0.1458\n",
      "Probability that R is lower than 300%: 0.2212\n",
      "Probability that R is higher than 1000%: 0.4346\n"
     ]
    }
   ],
   "execution_count": 48
  },
  {
   "metadata": {
    "ExecuteTime": {
     "end_time": "2024-11-12T10:04:03.721136Z",
     "start_time": "2024-11-12T10:04:03.718072Z"
    }
   },
   "cell_type": "code",
   "source": [
    "# --- Assumptions and Parameters for IBM Stock GBM Simulation ---\n",
    "\n",
    "# General simulation settings\n",
    "iterations = 1000  # Number of Monte Carlo simulations (N. Paths)\n",
    "gbm_maturity = 5        # Maturity in years\n",
    "gbm_initial_price = 60  # Initial stock price (S0)\n",
    "gbm_drift = 0.10        # Drift rate (annualized return, mhu = r = 10%)\n",
    "gbm_volatility = 0.30   # Volatility (annualized, 20%)\n",
    "gbm_strike_price = 60  # Strike price for option pricing (K = 100, at the money)\n",
    "\n",
    "# Parameters for Discounting\n",
    "strike_price = 60  # Strike price (K)\n",
    "maturity = gbm_maturity       # Time to maturity (T)\n",
    "risk_free_rate = gbm_drift  # Assuming drift rate as the risk-free rate for discounting\n",
    "\n",
    "\n",
    "# Probability Queries for Stock Price at Maturity\n",
    "# Format: (lower_bound, upper_bound, condition)\n",
    "# Conditions: 'lower' (below a price), 'higher' (above a price), 'exact' (at a price), \n",
    "# 'within' (within a range), 'or' (below a lower bound OR above an upper bound)\n",
    "probability_queries = [\n",
    "    (None, 100, 'lower'),        # Probability that stock price is below 100\n",
    "    (150, None, 'higher'),       # Probability that stock price is above 150\n",
    "    (200, 200, 'exact'),         # Probability that stock price is exactly 200\n",
    "    (120, 180, 'within'),        # Probability that stock price is within [120, 180]\n",
    "    (50, 200, 'or')              # Probability that stock price is below 50 or above 200\n",
    "]\n",
    "\n",
    "# Specify if you want to calculate probabilities and option prices\n",
    "calculate_option_prices = True  # Set to True to price European call/put options\n",
    "calculate_probability_below_threshold = 100  # Threshold for probability calculation (set to 100 for this exercise)\n"
   ],
   "id": "e42dd3513536ed0c",
   "outputs": [],
   "execution_count": 49
  },
  {
   "metadata": {
    "ExecuteTime": {
     "end_time": "2024-11-12T10:04:04.016548Z",
     "start_time": "2024-11-12T10:04:04.012766Z"
    }
   },
   "cell_type": "code",
   "source": [
    "def calculate_probability(simulations, lower=None, upper=None, condition='within'):\n",
    "    \"\"\"\n",
    "    Calculate the probability based on the specified condition.\n",
    "    \n",
    "    Parameters:\n",
    "    - simulations: Array of simulated values.\n",
    "    - lower: Lower bound for the probability calculation.\n",
    "    - upper: Upper bound for the probability calculation.\n",
    "    - condition: The condition type ('within', 'lower', 'higher', 'exact', 'or').\n",
    "    \n",
    "    Returns:\n",
    "    - Probability that values meet the specified condition.\n",
    "    \"\"\"\n",
    "    if condition == 'within' and lower is not None and upper is not None:\n",
    "        # Probability within [lower, upper] range\n",
    "        return np.mean((simulations >= lower) & (simulations <= upper))\n",
    "    elif condition == 'lower' and upper is not None:\n",
    "        # Probability below upper bound\n",
    "        return np.mean(simulations < upper)\n",
    "    elif condition == 'higher' and lower is not None:\n",
    "        # Probability above lower bound\n",
    "        return np.mean(simulations > lower)\n",
    "    elif condition == 'exact' and lower == upper:\n",
    "        # Probability that the value is exactly equal to a specified price\n",
    "        return np.mean(simulations == lower)\n",
    "    elif condition == 'or' and lower is not None and upper is not None:\n",
    "        # Probability that values are below lower bound or above upper bound\n",
    "        return np.mean((simulations < lower) | (simulations > upper))\n",
    "    return 0.0\n"
   ],
   "id": "2ad0e3163a47b929",
   "outputs": [],
   "execution_count": 50
  },
  {
   "metadata": {
    "ExecuteTime": {
     "end_time": "2024-11-12T10:04:04.418647Z",
     "start_time": "2024-11-12T10:04:04.345408Z"
    }
   },
   "cell_type": "code",
   "source": [
    "# --- GBM Simulation for Stock Price at Maturity ---\n",
    "\n",
    "def simulate_gbm(iterations, S0, drift, volatility, T):\n",
    "    \"\"\"\n",
    "    Simulate stock prices at maturity using Geometric Brownian Motion.\n",
    "    \n",
    "    Parameters:\n",
    "    - iterations: Number of simulation paths.\n",
    "    - S0: Initial stock price.\n",
    "    - drift: Drift rate (annualized return).\n",
    "    - volatility: Volatility (annualized).\n",
    "    - T: Time to maturity in years.\n",
    "    \n",
    "    Returns:\n",
    "    - Array of simulated stock prices at maturity.\n",
    "    \"\"\"\n",
    "    return S0 * np.exp((drift - 0.5 * volatility ** 2) * T + volatility * np.sqrt(T) * np.random.normal(0, 1, iterations))\n",
    "\n",
    "# Run the GBM simulation\n",
    "simulated_prices = simulate_gbm(iterations, gbm_initial_price, gbm_drift, gbm_volatility, gbm_maturity)\n",
    "\n",
    "# 3.1 Output: Stock values at maturity\n",
    "print(\"Sample of Stock Values at Maturity:\", simulated_prices[:10])  # Print a sample of the output\n",
    "\n",
    "# 3.2 Histogram of Stock Values at Maturity\n",
    "plt.hist(simulated_prices, bins=100, color='skyblue', edgecolor='black')\n",
    "plt.xlabel(\"Stock Price at Maturity\")\n",
    "plt.ylabel(\"Frequency\")\n",
    "plt.title(\"Histogram of IBM Stock Prices at Maturity (5 years)\")\n",
    "plt.show()\n",
    "\n",
    "# 3.3 Average stock price at maturity\n",
    "average_price = np.mean(simulated_prices)\n",
    "print(f\"Average Stock Price at Maturity: {round(average_price, 4)}\")\n",
    "\n",
    "\"\"\"# 3.4 Probability that IBM stock at maturity is below the threshold (100)\n",
    "probability_below_threshold = np.mean(simulated_prices < calculate_probability_below_threshold)\n",
    "print(f\"Probability IBM Stock < {calculate_probability_below_threshold} at Maturity: {round(probability_below_threshold, 4)}\")\"\"\"\n",
    "\n",
    "# 3.5 Corrected European Call and Put Option Prices with Discounting\n",
    "if calculate_option_prices:\n",
    "    # Calculate Call and Put Payoffs with discounting\n",
    "    call_payoffs = np.maximum(simulated_prices - strike_price, 0) * np.exp(-risk_free_rate * maturity)\n",
    "    put_payoffs = np.maximum(strike_price - simulated_prices, 0) * np.exp(-risk_free_rate * maturity)\n",
    "    \n",
    "    # Calculate average (expected) option prices\n",
    "    call_option_price = np.mean(call_payoffs)  # Call option price\n",
    "    put_option_price = np.mean(put_payoffs)    # Put option price\n",
    "\n",
    "    # Print results\n",
    "    print(f\"European Call Option Price: {round(call_option_price, 4)}\")\n",
    "    print(f\"European Put Option Price: {round(put_option_price, 4)}\")\n",
    "    \n",
    "    #calculate option premium"
   ],
   "id": "c32f2743b0e8d086",
   "outputs": [
    {
     "name": "stdout",
     "output_type": "stream",
     "text": [
      "Sample of Stock Values at Maturity: [54.19125351 98.55413327 83.98105388 41.3849609  30.90980795 33.0753784\n",
      " 70.24014892 84.52165867 73.10926437 40.70941263]\n"
     ]
    },
    {
     "data": {
      "text/plain": [
       "<Figure size 640x480 with 1 Axes>"
      ],
      "image/png": "[encoded data removed]"
     },
     "metadata": {},
     "output_type": "display_data"
    },
    {
     "name": "stdout",
     "output_type": "stream",
     "text": [
      "Average Stock Price at Maturity: 96.2246\n",
      "European Call Option Price: 26.3042\n",
      "European Put Option Price: 4.3329\n"
     ]
    }
   ],
   "execution_count": 51
  },
  {
   "metadata": {
    "ExecuteTime": {
     "end_time": "2024-11-12T10:04:04.575681Z",
     "start_time": "2024-11-12T10:04:04.573111Z"
    }
   },
   "cell_type": "code",
   "source": [
    "# --- Execution and Results ---\n",
    "\n",
    "# Simulate stock prices at maturity using GBM\n",
    "simulated_prices = simulate_gbm(iterations, gbm_initial_price, gbm_drift, gbm_volatility, gbm_maturity)\n",
    "\n",
    "# Calculate probabilities for specified queries with descriptive output\n",
    "print(\"Probability Results:\")\n",
    "for lower, upper, condition in probability_queries:\n",
    "    probability = calculate_probability(simulated_prices, lower, upper, condition)\n",
    "\n",
    "    # Construct descriptive message based on the condition type\n",
    "    if condition == 'within':\n",
    "        description = f\"Probability that stock price is between {lower} and {upper}\"\n",
    "    elif condition == 'lower':\n",
    "        description = f\"Probability that stock price is below {upper}\"\n",
    "    elif condition == 'higher':\n",
    "        description = f\"Probability that stock price is above {lower}\"\n",
    "    elif condition == 'exact':\n",
    "        description = f\"Probability that stock price is exactly {lower}\"\n",
    "    elif condition == 'or':\n",
    "        description = f\"Probability that stock price is below {lower} or above {upper}\"\n",
    "\n",
    "    print(f\"{description}: {round(probability, 4)}\")\n"
   ],
   "id": "21f7efc306ff018e",
   "outputs": [
    {
     "name": "stdout",
     "output_type": "stream",
     "text": [
      "Probability Results:\n",
      "Probability that stock price is below 100: 0.642\n",
      "Probability that stock price is above 150: 0.16\n",
      "Probability that stock price is exactly 200: 0.0\n",
      "Probability that stock price is between 120 and 180: 0.155\n",
      "Probability that stock price is below 50 or above 200: 0.319\n"
     ]
    }
   ],
   "execution_count": 52
  },
  {
   "metadata": {},
   "cell_type": "markdown",
   "source": [
    "<div style=\"background-color: #333333; color: #FFDD57; padding: 15px; border-radius: 10px; border: 2px solid #FFDD57;\">\n",
    "    <h2 style=\"margin: 0; font-size: 24px;\">Other topics not covered in Exercises</h2>\n",
    "    <p>Including Black Scholes and trees</p>\n",
    "</div>\n"
   ],
   "id": "a36d2f770198cf2"
  },
  {
   "metadata": {
    "ExecuteTime": {
     "end_time": "2024-11-12T10:04:05.427402Z",
     "start_time": "2024-11-12T10:04:05.423167Z"
    }
   },
   "cell_type": "code",
   "source": [
    "# Black-Scholes\n",
    "\n",
    "# --- Assumptions (Adjust as Needed) ---\n",
    "S = 60      # Current stock price\n",
    "K = 45        # Strike price\n",
    "T = 0.75      # Time to maturity (years)\n",
    "r = 0.04      # Risk-free interest rate\n",
    "sigma = 0.3   # Volatility (standard deviation of stock returns)\n",
    "\n",
    "# --- Calculations ---\n",
    "\n",
    "# Calculate d1 and d2\n",
    "d1 = (np.log(S / K) + (r + 0.5 * sigma**2) * T) / (sigma * np.sqrt(T))\n",
    "d2 = d1 - sigma * np.sqrt(T)\n",
    "\n",
    "# Calculate call and put prices using Black-Scholes formula\n",
    "call_price = S * norm.cdf(d1) - K * np.exp(-r * T) * norm.cdf(d2)\n",
    "put_price = -S * norm.cdf(-d1) + K * np.exp(-r * T) * norm.cdf(-d2)\n",
    "\n",
    "# Probabilities for d1 and d2 being less than or greater than a specified value (example: 1)\n",
    "specified_value = 1\n",
    "probability_d1_less_than_value = norm.cdf(specified_value, loc=d1)\n",
    "probability_d1_greater_than_value = 1 - probability_d1_less_than_value\n",
    "probability_d2_less_than_value = norm.cdf(specified_value, loc=d2)\n",
    "probability_d2_greater_than_value = 1 - probability_d2_less_than_value\n",
    "\n",
    "# Probability of the options expiring in-the-money\n",
    "probability_in_the_money_call = norm.cdf(d2)  # For call option\n",
    "probability_in_the_money_put = norm.cdf(-d2)  # For put option\n",
    "\n",
    "# Probability of the options expiring out-of-the-money\n",
    "probability_out_of_the_money_call = 1 - probability_in_the_money_call\n",
    "probability_out_of_the_money_put = 1 - probability_in_the_money_put\n",
    "\n",
    "# --- Outputs ---\n",
    "print(\"d1:\", round(d1, 4))\n",
    "print(\"d2:\", round(d2, 4))\n",
    "print(\"European Call Option Price:\", round(call_price, 4))\n",
    "print(\"European Put Option Price:\", round(put_price, 4))\n",
    "print(\"Probability Call Option Expires In-The-Money:\", round(probability_in_the_money_call, 4))\n",
    "print(\"Probability Put Option Expires In-The-Money:\", round(probability_in_the_money_put, 4))\n",
    "print(\"Probability Call Option Expires Out-of-the-Money:\", round(probability_out_of_the_money_call, 4))\n",
    "print(\"Probability Put Option Expires Out-of-the-Money:\", round(probability_out_of_the_money_put, 4))\n",
    "print(f\"Probability that d1 is less than {specified_value}:\", round(probability_d1_less_than_value, 4))\n",
    "print(f\"Probability that d1 is greater than {specified_value}:\", round(probability_d1_greater_than_value, 4))\n",
    "print(f\"Probability that d2 is less than {specified_value}:\", round(probability_d2_less_than_value, 4))\n",
    "print(f\"Probability that d2 is greater than {specified_value}:\", round(probability_d2_greater_than_value, 4))"
   ],
   "id": "6cf5410905c8aec0",
   "outputs": [
    {
     "name": "stdout",
     "output_type": "stream",
     "text": [
      "d1: 1.3527\n",
      "d2: 1.0929\n",
      "European Call Option Price: 17.0378\n",
      "European Put Option Price: 0.7079\n",
      "Probability Call Option Expires In-The-Money: 0.8628\n",
      "Probability Put Option Expires In-The-Money: 0.1372\n",
      "Probability Call Option Expires Out-of-the-Money: 0.1372\n",
      "Probability Put Option Expires Out-of-the-Money: 0.8628\n",
      "Probability that d1 is less than 1: 0.3622\n",
      "Probability that d1 is greater than 1: 0.6378\n",
      "Probability that d2 is less than 1: 0.463\n",
      "Probability that d2 is greater than 1: 0.537\n"
     ]
    }
   ],
   "execution_count": 53
  }
 ],
 "metadata": {
  "kernelspec": {
   "display_name": "Python 3",
   "language": "python",
   "name": "python3"
  },
  "language_info": {
   "codemirror_mode": {
    "name": "ipython",
    "version": 2
   },
   "file_extension": ".py",
   "mimetype": "text/x-python",
   "name": "python",
   "nbconvert_exporter": "python",
   "pygments_lexer": "ipython2",
   "version": "2.7.6"
  }
 },
 "nbformat": 4,
 "nbformat_minor": 5
}
